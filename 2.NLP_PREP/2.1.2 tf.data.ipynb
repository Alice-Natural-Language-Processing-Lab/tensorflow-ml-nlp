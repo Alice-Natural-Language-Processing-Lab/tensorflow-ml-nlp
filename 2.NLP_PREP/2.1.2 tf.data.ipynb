{
 "cells": [
  {
   "cell_type": "markdown",
   "metadata": {},
   "source": [
    "# tf.data"
   ]
  },
  {
   "cell_type": "code",
   "execution_count": 1,
   "metadata": {},
   "outputs": [],
   "source": [
    "import os\n",
    "import tensorflow as tf #텐서플로우 모듈 불러오기\n",
    "import numpy as np\n",
    "\n",
    "from tensorflow.keras import preprocessing"
   ]
  },
  {
   "cell_type": "code",
   "execution_count": 3,
   "metadata": {},
   "outputs": [],
   "source": [
    "samples = ['너 오늘 이뻐 보인다', \n",
    "           '나는 오늘 기분이 더러워', \n",
    "           '끝내주는데, 좋은 일이 있나봐', \n",
    "           '나 좋은 일이 생겼어', \n",
    "           '아 오늘 진짜 짜증나', \n",
    "           '환상적인데, 정말 좋은거 같아']\n",
    "\n",
    "label = [[1], [0], [1], [1], [0], [1]]"
   ]
  },
  {
   "cell_type": "code",
<<<<<<< HEAD
   "execution_count": 70,
   "metadata": {},
   "outputs": [],
   "source": [
    "import os\n",
    "import tensorflow as tf #텐서플로우 모듈 불러오기\n",
    "\n",
    "from tensorflow.keras import preprocessing\n",
    "\n",
    "import numpy as np"
=======
   "execution_count": 4,
   "metadata": {},
   "outputs": [],
   "source": [
    "MAX_LEN = 4"
   ]
  },
  {
   "cell_type": "code",
   "execution_count": 6,
   "metadata": {},
   "outputs": [],
   "source": [
    "tokenizer = preprocessing.text.Tokenizer()\n",
    "tokenizer.fit_on_texts(samples)\n",
    "sequences = tokenizer.texts_to_sequences(samples)\n",
    "\n",
    "sequences = preprocessing.sequence.pad_sequences(sequences, maxlen=MAX_LEN, padding='post')\n",
    "\n",
    "word_index = tokenizer.word_index"
   ]
  },
  {
   "cell_type": "code",
   "execution_count": 13,
   "metadata": {},
   "outputs": [
    {
     "name": "stdout",
     "output_type": "stream",
     "text": [
      "수치화된 텍스트 데이터: \n",
      " [[ 4  1  5  6]\n",
      " [ 7  1  8  9]\n",
      " [10  2  3 11]\n",
      " [12  2  3 13]\n",
      " [14  1 15 16]\n",
      " [17 18 19 20]]\n",
      "각 단어의 인덱스: \n",
      " {'오늘': 1, '좋은': 2, '일이': 3, '너': 4, '이뻐': 5, '보인다': 6, '나는': 7, '기분이': 8, '더러워': 9, '끝내주는데': 10, '있나봐': 11, '나': 12, '생겼어': 13, '아': 14, '진짜': 15, '짜증나': 16, '환상적인데': 17, '정말': 18, '좋은거': 19, '같아': 20}\n",
      "라벨:  [[1], [0], [1], [1], [0], [1]]\n"
     ]
    }
   ],
   "source": [
    "print(\"수치화된 텍스트 데이터: \\n\",sequences)\n",
    "print(\"각 단어의 인덱스: \\n\", word_index) \n",
    "print(\"라벨: \", label) "
>>>>>>> 6b0349e2bb6d59a414917670a49c0f40bbc973d1
   ]
  },
  {
   "cell_type": "code",
<<<<<<< HEAD
   "execution_count": 74,
=======
   "execution_count": 17,
   "metadata": {},
   "outputs": [],
   "source": [
    "dataset = tf.data.Dataset.from_tensor_slices((sequences, label))\n",
    "iterator = dataset.make_one_shot_iterator()\n",
    "next_data = iterator.get_next()"
   ]
  },
  {
   "cell_type": "code",
   "execution_count": 16,
>>>>>>> 6b0349e2bb6d59a414917670a49c0f40bbc973d1
   "metadata": {},
   "outputs": [
    {
     "name": "stdout",
     "output_type": "stream",
     "text": [
<<<<<<< HEAD
      "Found 20 unique tokens.\n",
      "{'오늘': 1, '좋은': 2, '일이': 3, '너': 4, '이뻐': 5, '보인다': 6, '나는': 7, '기분이': 8, '더러워': 9, '끝내주는데': 10, '있나봐': 11, '나': 12, '생겼어': 13, '아': 14, '진짜': 15, '짜증나': 16, '환상적인데': 17, '정말': 18, '좋은거': 19, '같아': 20}\n",
      "[[ 4  1  5  6]\n",
      " [ 7  1  8  9]\n",
      " [10  2  3 11]\n",
      " [12  2  3 13]\n",
      " [14  1 15 16]\n",
      " [17 18 19 20]]\n",
      "[[1], [0], [1], [1], [0], [1]]\n"
=======
      "(array([4, 1, 5, 6]), array([1]))\n",
      "(array([7, 1, 8, 9]), array([0]))\n",
      "(array([10,  2,  3, 11]), array([1]))\n",
      "(array([12,  2,  3, 13]), array([1]))\n",
      "(array([14,  1, 15, 16]), array([0]))\n",
      "(array([17, 18, 19, 20]), array([1]))\n"
>>>>>>> 6b0349e2bb6d59a414917670a49c0f40bbc973d1
     ]
    }
   ],
   "source": [
<<<<<<< HEAD
    "samples = ['너 오늘 이뻐 보인다', \n",
    "           '나는 오늘 기분이 더러워', \n",
    "           '끝내주는데, 좋은 일이 있나봐', \n",
    "           '나 좋은 일이 생겼어', \n",
    "           '아 오늘 진짜 짜증나', \n",
    "           '환상적인데, 정말 좋은거 같아']\n",
    "\n",
    "label = [[1], [0], [1], [1],[0], [1]]\n",
    "\n",
    "tokenizer = preprocessing.text.Tokenizer()\n",
    "tokenizer.fit_on_texts(samples)\n",
    "sequences = tokenizer.texts_to_sequences(samples)\n",
    "\n",
    "sequences = preprocessing.sequence.pad_sequences(sequences, maxlen=max_len, padding='post')\n",
    "\n",
    "word_index = tokenizer.word_index\n",
    "print('Found %s unique tokens.' % len(word_index))\n",
    "\n",
    "print(word_index)\n",
    "print(sequences)\n",
    "print(label)"
=======
    "with tf.Session() as sess:\n",
    "    while True:\n",
    "        try:\n",
    "            print(sess.run(next_data))\n",
    "        except tf.errors.OutOfRangeError:\n",
    "            break"
>>>>>>> 6b0349e2bb6d59a414917670a49c0f40bbc973d1
   ]
  },
  {
   "cell_type": "code",
<<<<<<< HEAD
   "execution_count": 85,
   "metadata": {},
   "outputs": [],
   "source": [
    "MAX_LEN = 4\n",
    "VOCAB_SIZE = len(word_index) #문장의 단어 사이즈\n",
    "BATCH_SIZE = 2\n",
    "NUM_EPOCHS = 1\n",
    "\n",
    "def mapping_fn(X, Y=None):\n",
    "    input, label = {'x': X}, Y\n",
    "    return input, label\n",
    "\n",
    "# Dataset에서 Iterator를 생성하여 초기화를 하거나 그 다음에 있는 tf.Tensor 객체를 생성하자.\n",
    "#학습 셋을 Dataset에 입력한다 입력 형태는 numpy 형태이다.\n",
    "def train_input_fn():\n",
    "    dataset = tf.data.Dataset.from_tensor_slices((sequences, label))\n",
    "    dataset = dataset.map(mapping_fn)\n",
    "    dataset = dataset.repeat(count=NUM_EPOCHS)\n",
    "    dataset = dataset.batch(BATCH_SIZE) #배치구조로 데이터\n",
    "    iterator = dataset.make_one_shot_iterator()\n",
    "    \n",
    "    return iterator.get_next()"
   ]
  },
  {
   "cell_type": "code",
   "execution_count": 81,
   "metadata": {},
   "outputs": [],
   "source": [
    "# Dataset에서 Iterator를 생성하여 초기화를 하거나 그 다음에 있는 tf.Tensor 객체를 생성하자.\n",
    "#학습 셋을 Dataset에 입력한다 입력 형태는 numpy 형태이다.\n",
    "dataset = tf.data.Dataset.from_tensor_slices((sequences, label))\n",
    "iterator = dataset.make_one_shot_iterator()\n",
    "nextData = iterator.get_next()\n",
    "\n",
    "with tf.Session() as sess:\n",
    "    while True:\n",
    "        try:\n",
    "            print(sess.run(nextData))\n",
    "        except tf.errors.OutOfRangeError:\n",
    "            break"
=======
   "execution_count": 21,
   "metadata": {},
   "outputs": [],
   "source": [
    "BATCH_SIZE = 2\n",
    "\n",
    "dataset = tf.data.Dataset.from_tensor_slices((sequences, label))\n",
    "dataset = dataset.batch(BATCH_SIZE)\n",
    "iterator = dataset.make_one_shot_iterator()\n",
    "next_data = iterator.get_next()"
>>>>>>> 6b0349e2bb6d59a414917670a49c0f40bbc973d1
   ]
  },
  {
   "cell_type": "code",
<<<<<<< HEAD
   "execution_count": 83,
   "metadata": {},
   "outputs": [
    {
     "name": "stdout",
     "output_type": "stream",
     "text": [
      "(array([4, 1, 5, 6], dtype=int32), array([1], dtype=int32))\n",
      "(array([7, 1, 8, 9], dtype=int32), array([0], dtype=int32))\n",
      "(array([10,  2,  3, 11], dtype=int32), array([1], dtype=int32))\n",
      "(array([12,  2,  3, 13], dtype=int32), array([1], dtype=int32))\n",
      "(array([14,  1, 15, 16], dtype=int32), array([0], dtype=int32))\n",
      "(array([17, 18, 19, 20], dtype=int32), array([1], dtype=int32))\n"
     ]
    }
   ],
   "source": []
  },
  {
   "cell_type": "code",
   "execution_count": 65,
=======
   "execution_count": 22,
>>>>>>> 6b0349e2bb6d59a414917670a49c0f40bbc973d1
   "metadata": {},
   "outputs": [
    {
     "name": "stdout",
     "output_type": "stream",
     "text": [
<<<<<<< HEAD
      "sentence index: [[4 1 5 6]\n",
      " [7 1 8 9]]\n",
      "sentence Label: [[1]\n",
      " [0]]\n"
=======
      "(array([[4, 1, 5, 6],\n",
      "       [7, 1, 8, 9]]), array([[1],\n",
      "       [0]]))\n",
      "(array([[10,  2,  3, 11],\n",
      "       [12,  2,  3, 13]]), array([[1],\n",
      "       [1]]))\n",
      "(array([[14,  1, 15, 16],\n",
      "       [17, 18, 19, 20]]), array([[0],\n",
      "       [1]]))\n"
>>>>>>> 6b0349e2bb6d59a414917670a49c0f40bbc973d1
     ]
    }
   ],
   "source": [
<<<<<<< HEAD
    "# 세션을 실행 시켜서 간단한 테스트를 진행 해 보자\n",
    "\n",
    "with tf.Session() as sess:\n",
    "    dataset = sess.run(train_input_fn())\n",
    "    print(\"sentence index: {}\".format(dataset[0]['x'])) # 입력 문장\n",
    "    print(\"sentence Label: {}\".format(dataset[1])) # 입력 문장 레이블 (긍/부정))"
=======
    "with tf.Session() as sess:\n",
    "    while True:\n",
    "        try:\n",
    "            print(sess.run(next_data))\n",
    "        except tf.errors.OutOfRangeError:\n",
    "            break"
   ]
  },
  {
   "cell_type": "code",
   "execution_count": 23,
   "metadata": {},
   "outputs": [],
   "source": [
    "dataset = tf.data.Dataset.from_tensor_slices((sequences, label))\n",
    "dataset = dataset.shuffle(len(sequences))\n",
    "iterator = dataset.make_one_shot_iterator()\n",
    "next_data = iterator.get_next()"
   ]
  },
  {
   "cell_type": "code",
   "execution_count": 24,
   "metadata": {},
   "outputs": [
    {
     "name": "stdout",
     "output_type": "stream",
     "text": [
      "(array([7, 1, 8, 9]), array([0]))\n",
      "(array([14,  1, 15, 16]), array([0]))\n",
      "(array([12,  2,  3, 13]), array([1]))\n",
      "(array([17, 18, 19, 20]), array([1]))\n",
      "(array([10,  2,  3, 11]), array([1]))\n",
      "(array([4, 1, 5, 6]), array([1]))\n"
     ]
    }
   ],
   "source": [
    "with tf.Session() as sess:\n",
    "    while True:\n",
    "        try:\n",
    "            print(sess.run(next_data))\n",
    "        except tf.errors.OutOfRangeError:\n",
    "            break"
   ]
  },
  {
   "cell_type": "code",
   "execution_count": 25,
   "metadata": {},
   "outputs": [],
   "source": [
    "EPOCH = 2\n",
    "\n",
    "dataset = tf.data.Dataset.from_tensor_slices((sequences, label))\n",
    "dataset = dataset.repeat(EPOCH)\n",
    "iterator = dataset.make_one_shot_iterator()\n",
    "next_data = iterator.get_next()"
   ]
  },
  {
   "cell_type": "code",
   "execution_count": 26,
   "metadata": {},
   "outputs": [
    {
     "name": "stdout",
     "output_type": "stream",
     "text": [
      "(array([4, 1, 5, 6]), array([1]))\n",
      "(array([7, 1, 8, 9]), array([0]))\n",
      "(array([10,  2,  3, 11]), array([1]))\n",
      "(array([12,  2,  3, 13]), array([1]))\n",
      "(array([14,  1, 15, 16]), array([0]))\n",
      "(array([17, 18, 19, 20]), array([1]))\n",
      "(array([4, 1, 5, 6]), array([1]))\n",
      "(array([7, 1, 8, 9]), array([0]))\n",
      "(array([10,  2,  3, 11]), array([1]))\n",
      "(array([12,  2,  3, 13]), array([1]))\n",
      "(array([14,  1, 15, 16]), array([0]))\n",
      "(array([17, 18, 19, 20]), array([1]))\n"
     ]
    }
   ],
   "source": [
    "with tf.Session() as sess:\n",
    "    while True:\n",
    "        try:\n",
    "            print(sess.run(next_data))\n",
    "        except tf.errors.OutOfRangeError:\n",
    "            break"
>>>>>>> 6b0349e2bb6d59a414917670a49c0f40bbc973d1
   ]
  },
  {
   "cell_type": "code",
<<<<<<< HEAD
   "execution_count": 87,
=======
   "execution_count": 30,
   "metadata": {},
   "outputs": [],
   "source": [
    "def mapping_fn(X, Y=None):\n",
    "    input = {'x': X}\n",
    "    label = Y\n",
    "    return input, label"
   ]
  },
  {
   "cell_type": "code",
   "execution_count": 28,
   "metadata": {},
   "outputs": [],
   "source": [
    "dataset = tf.data.Dataset.from_tensor_slices((sequences, label))\n",
    "dataset = dataset.map(mapping_fn)\n",
    "iterator = dataset.make_one_shot_iterator()\n",
    "next_data = iterator.get_next()"
   ]
  },
  {
   "cell_type": "code",
   "execution_count": 29,
>>>>>>> 6b0349e2bb6d59a414917670a49c0f40bbc973d1
   "metadata": {},
   "outputs": [
    {
     "name": "stdout",
     "output_type": "stream",
     "text": [
<<<<<<< HEAD
      "sentence index: [[4 1 5 6]\n",
      " [7 1 8 9]] \n",
      "\n",
      "sentence Label: [[1]\n",
      " [0]]\n",
      "sentence index: [[4 1 5 6]\n",
      " [7 1 8 9]] \n",
      "\n",
      "sentence Label: [[1]\n",
      " [0]]\n",
      "sentence index: [[4 1 5 6]\n",
      " [7 1 8 9]] \n",
      "\n",
      "sentence Label: [[1]\n",
      " [0]]\n",
      "sentence index: [[4 1 5 6]\n",
      " [7 1 8 9]] \n",
      "\n",
      "sentence Label: [[1]\n",
      " [0]]\n",
      "sentence index: [[4 1 5 6]\n",
      " [7 1 8 9]] \n",
      "\n",
      "sentence Label: [[1]\n",
      " [0]]\n",
      "sentence index: [[4 1 5 6]\n",
      " [7 1 8 9]] \n",
      "\n",
      "sentence Label: [[1]\n",
      " [0]]\n",
      "sentence index: [[4 1 5 6]\n",
      " [7 1 8 9]] \n",
      "\n",
      "sentence Label: [[1]\n",
      " [0]]\n",
      "sentence index: [[4 1 5 6]\n",
      " [7 1 8 9]] \n",
      "\n",
      "sentence Label: [[1]\n",
      " [0]]\n",
      "sentence index: [[4 1 5 6]\n",
      " [7 1 8 9]] \n",
      "\n",
      "sentence Label: [[1]\n",
      " [0]]\n",
      "sentence index: [[4 1 5 6]\n",
      " [7 1 8 9]] \n",
      "\n",
      "sentence Label: [[1]\n",
      " [0]]\n",
      "sentence index: [[4 1 5 6]\n",
      " [7 1 8 9]] \n",
      "\n",
      "sentence Label: [[1]\n",
      " [0]]\n",
      "sentence index: [[4 1 5 6]\n",
      " [7 1 8 9]] \n",
      "\n",
      "sentence Label: [[1]\n",
      " [0]]\n",
      "sentence index: [[4 1 5 6]\n",
      " [7 1 8 9]] \n",
      "\n",
      "sentence Label: [[1]\n",
      " [0]]\n",
      "sentence index: [[4 1 5 6]\n",
      " [7 1 8 9]] \n",
      "\n",
      "sentence Label: [[1]\n",
      " [0]]\n",
      "sentence index: [[4 1 5 6]\n",
      " [7 1 8 9]] \n",
      "\n",
      "sentence Label: [[1]\n",
      " [0]]\n",
      "sentence index: [[4 1 5 6]\n",
      " [7 1 8 9]] \n",
      "\n",
      "sentence Label: [[1]\n",
      " [0]]\n",
      "sentence index: [[4 1 5 6]\n",
      " [7 1 8 9]] \n",
      "\n",
      "sentence Label: [[1]\n",
      " [0]]\n",
      "sentence index: [[4 1 5 6]\n",
      " [7 1 8 9]] \n",
      "\n",
      "sentence Label: [[1]\n",
      " [0]]\n"
     ]
    },
    {
     "ename": "KeyboardInterrupt",
     "evalue": "",
     "output_type": "error",
     "traceback": [
      "\u001b[0;31m---------------------------------------------------------------------------\u001b[0m",
      "\u001b[0;31mKeyboardInterrupt\u001b[0m                         Traceback (most recent call last)",
      "\u001b[0;32m<ipython-input-87-9a0ff7a3a562>\u001b[0m in \u001b[0;36m<module>\u001b[0;34m()\u001b[0m\n\u001b[1;32m      2\u001b[0m     \u001b[0;32mwhile\u001b[0m \u001b[0;32mTrue\u001b[0m\u001b[0;34m:\u001b[0m\u001b[0;34m\u001b[0m\u001b[0m\n\u001b[1;32m      3\u001b[0m         \u001b[0;32mtry\u001b[0m\u001b[0;34m:\u001b[0m\u001b[0;34m\u001b[0m\u001b[0m\n\u001b[0;32m----> 4\u001b[0;31m             \u001b[0mdataset\u001b[0m \u001b[0;34m=\u001b[0m \u001b[0msess\u001b[0m\u001b[0;34m.\u001b[0m\u001b[0mrun\u001b[0m\u001b[0;34m(\u001b[0m\u001b[0mtrain_input_fn\u001b[0m\u001b[0;34m(\u001b[0m\u001b[0;34m)\u001b[0m\u001b[0;34m)\u001b[0m\u001b[0;34m\u001b[0m\u001b[0m\n\u001b[0m\u001b[1;32m      5\u001b[0m             \u001b[0mprint\u001b[0m\u001b[0;34m(\u001b[0m\u001b[0;34m\"sentence index: {} \\n\"\u001b[0m\u001b[0;34m.\u001b[0m\u001b[0mformat\u001b[0m\u001b[0;34m(\u001b[0m\u001b[0mdataset\u001b[0m\u001b[0;34m[\u001b[0m\u001b[0;36m0\u001b[0m\u001b[0;34m]\u001b[0m\u001b[0;34m[\u001b[0m\u001b[0;34m'x'\u001b[0m\u001b[0;34m]\u001b[0m\u001b[0;34m)\u001b[0m\u001b[0;34m)\u001b[0m \u001b[0;31m# 입력 문장\u001b[0m\u001b[0;34m\u001b[0m\u001b[0m\n\u001b[1;32m      6\u001b[0m             \u001b[0mprint\u001b[0m\u001b[0;34m(\u001b[0m\u001b[0;34m\"sentence Label: {}\"\u001b[0m\u001b[0;34m.\u001b[0m\u001b[0mformat\u001b[0m\u001b[0;34m(\u001b[0m\u001b[0mdataset\u001b[0m\u001b[0;34m[\u001b[0m\u001b[0;36m1\u001b[0m\u001b[0;34m]\u001b[0m\u001b[0;34m)\u001b[0m\u001b[0;34m)\u001b[0m \u001b[0;31m# 입력 문장 레이블 (긍/부정))\u001b[0m\u001b[0;34m\u001b[0m\u001b[0m\n",
      "\u001b[0;32m~/tf110/lib/python3.6/site-packages/tensorflow/python/client/session.py\u001b[0m in \u001b[0;36mrun\u001b[0;34m(self, fetches, feed_dict, options, run_metadata)\u001b[0m\n\u001b[1;32m    875\u001b[0m     \u001b[0;32mtry\u001b[0m\u001b[0;34m:\u001b[0m\u001b[0;34m\u001b[0m\u001b[0m\n\u001b[1;32m    876\u001b[0m       result = self._run(None, fetches, feed_dict, options_ptr,\n\u001b[0;32m--> 877\u001b[0;31m                          run_metadata_ptr)\n\u001b[0m\u001b[1;32m    878\u001b[0m       \u001b[0;32mif\u001b[0m \u001b[0mrun_metadata\u001b[0m\u001b[0;34m:\u001b[0m\u001b[0;34m\u001b[0m\u001b[0m\n\u001b[1;32m    879\u001b[0m         \u001b[0mproto_data\u001b[0m \u001b[0;34m=\u001b[0m \u001b[0mtf_session\u001b[0m\u001b[0;34m.\u001b[0m\u001b[0mTF_GetBuffer\u001b[0m\u001b[0;34m(\u001b[0m\u001b[0mrun_metadata_ptr\u001b[0m\u001b[0;34m)\u001b[0m\u001b[0;34m\u001b[0m\u001b[0m\n",
      "\u001b[0;32m~/tf110/lib/python3.6/site-packages/tensorflow/python/client/session.py\u001b[0m in \u001b[0;36m_run\u001b[0;34m(self, handle, fetches, feed_dict, options, run_metadata)\u001b[0m\n\u001b[1;32m   1098\u001b[0m     \u001b[0;32mif\u001b[0m \u001b[0mfinal_fetches\u001b[0m \u001b[0;32mor\u001b[0m \u001b[0mfinal_targets\u001b[0m \u001b[0;32mor\u001b[0m \u001b[0;34m(\u001b[0m\u001b[0mhandle\u001b[0m \u001b[0;32mand\u001b[0m \u001b[0mfeed_dict_tensor\u001b[0m\u001b[0;34m)\u001b[0m\u001b[0;34m:\u001b[0m\u001b[0;34m\u001b[0m\u001b[0m\n\u001b[1;32m   1099\u001b[0m       results = self._do_run(handle, final_targets, final_fetches,\n\u001b[0;32m-> 1100\u001b[0;31m                              feed_dict_tensor, options, run_metadata)\n\u001b[0m\u001b[1;32m   1101\u001b[0m     \u001b[0;32melse\u001b[0m\u001b[0;34m:\u001b[0m\u001b[0;34m\u001b[0m\u001b[0m\n\u001b[1;32m   1102\u001b[0m       \u001b[0mresults\u001b[0m \u001b[0;34m=\u001b[0m \u001b[0;34m[\u001b[0m\u001b[0;34m]\u001b[0m\u001b[0;34m\u001b[0m\u001b[0m\n",
      "\u001b[0;32m~/tf110/lib/python3.6/site-packages/tensorflow/python/client/session.py\u001b[0m in \u001b[0;36m_do_run\u001b[0;34m(self, handle, target_list, fetch_list, feed_dict, options, run_metadata)\u001b[0m\n\u001b[1;32m   1270\u001b[0m     \u001b[0;32mif\u001b[0m \u001b[0mhandle\u001b[0m \u001b[0;32mis\u001b[0m \u001b[0;32mNone\u001b[0m\u001b[0;34m:\u001b[0m\u001b[0;34m\u001b[0m\u001b[0m\n\u001b[1;32m   1271\u001b[0m       return self._do_call(_run_fn, feeds, fetches, targets, options,\n\u001b[0;32m-> 1272\u001b[0;31m                            run_metadata)\n\u001b[0m\u001b[1;32m   1273\u001b[0m     \u001b[0;32melse\u001b[0m\u001b[0;34m:\u001b[0m\u001b[0;34m\u001b[0m\u001b[0m\n\u001b[1;32m   1274\u001b[0m       \u001b[0;32mreturn\u001b[0m \u001b[0mself\u001b[0m\u001b[0;34m.\u001b[0m\u001b[0m_do_call\u001b[0m\u001b[0;34m(\u001b[0m\u001b[0m_prun_fn\u001b[0m\u001b[0;34m,\u001b[0m \u001b[0mhandle\u001b[0m\u001b[0;34m,\u001b[0m \u001b[0mfeeds\u001b[0m\u001b[0;34m,\u001b[0m \u001b[0mfetches\u001b[0m\u001b[0;34m)\u001b[0m\u001b[0;34m\u001b[0m\u001b[0m\n",
      "\u001b[0;32m~/tf110/lib/python3.6/site-packages/tensorflow/python/client/session.py\u001b[0m in \u001b[0;36m_do_call\u001b[0;34m(self, fn, *args)\u001b[0m\n\u001b[1;32m   1276\u001b[0m   \u001b[0;32mdef\u001b[0m \u001b[0m_do_call\u001b[0m\u001b[0;34m(\u001b[0m\u001b[0mself\u001b[0m\u001b[0;34m,\u001b[0m \u001b[0mfn\u001b[0m\u001b[0;34m,\u001b[0m \u001b[0;34m*\u001b[0m\u001b[0margs\u001b[0m\u001b[0;34m)\u001b[0m\u001b[0;34m:\u001b[0m\u001b[0;34m\u001b[0m\u001b[0m\n\u001b[1;32m   1277\u001b[0m     \u001b[0;32mtry\u001b[0m\u001b[0;34m:\u001b[0m\u001b[0;34m\u001b[0m\u001b[0m\n\u001b[0;32m-> 1278\u001b[0;31m       \u001b[0;32mreturn\u001b[0m \u001b[0mfn\u001b[0m\u001b[0;34m(\u001b[0m\u001b[0;34m*\u001b[0m\u001b[0margs\u001b[0m\u001b[0;34m)\u001b[0m\u001b[0;34m\u001b[0m\u001b[0m\n\u001b[0m\u001b[1;32m   1279\u001b[0m     \u001b[0;32mexcept\u001b[0m \u001b[0merrors\u001b[0m\u001b[0;34m.\u001b[0m\u001b[0mOpError\u001b[0m \u001b[0;32mas\u001b[0m \u001b[0me\u001b[0m\u001b[0;34m:\u001b[0m\u001b[0;34m\u001b[0m\u001b[0m\n\u001b[1;32m   1280\u001b[0m       \u001b[0mmessage\u001b[0m \u001b[0;34m=\u001b[0m \u001b[0mcompat\u001b[0m\u001b[0;34m.\u001b[0m\u001b[0mas_text\u001b[0m\u001b[0;34m(\u001b[0m\u001b[0me\u001b[0m\u001b[0;34m.\u001b[0m\u001b[0mmessage\u001b[0m\u001b[0;34m)\u001b[0m\u001b[0;34m\u001b[0m\u001b[0m\n",
      "\u001b[0;32m~/tf110/lib/python3.6/site-packages/tensorflow/python/client/session.py\u001b[0m in \u001b[0;36m_run_fn\u001b[0;34m(feed_dict, fetch_list, target_list, options, run_metadata)\u001b[0m\n\u001b[1;32m   1261\u001b[0m       \u001b[0mself\u001b[0m\u001b[0;34m.\u001b[0m\u001b[0m_extend_graph\u001b[0m\u001b[0;34m(\u001b[0m\u001b[0;34m)\u001b[0m\u001b[0;34m\u001b[0m\u001b[0m\n\u001b[1;32m   1262\u001b[0m       return self._call_tf_sessionrun(\n\u001b[0;32m-> 1263\u001b[0;31m           options, feed_dict, fetch_list, target_list, run_metadata)\n\u001b[0m\u001b[1;32m   1264\u001b[0m \u001b[0;34m\u001b[0m\u001b[0m\n\u001b[1;32m   1265\u001b[0m     \u001b[0;32mdef\u001b[0m \u001b[0m_prun_fn\u001b[0m\u001b[0;34m(\u001b[0m\u001b[0mhandle\u001b[0m\u001b[0;34m,\u001b[0m \u001b[0mfeed_dict\u001b[0m\u001b[0;34m,\u001b[0m \u001b[0mfetch_list\u001b[0m\u001b[0;34m)\u001b[0m\u001b[0;34m:\u001b[0m\u001b[0;34m\u001b[0m\u001b[0m\n",
      "\u001b[0;32m~/tf110/lib/python3.6/site-packages/tensorflow/python/client/session.py\u001b[0m in \u001b[0;36m_call_tf_sessionrun\u001b[0;34m(self, options, feed_dict, fetch_list, target_list, run_metadata)\u001b[0m\n\u001b[1;32m   1348\u001b[0m     return tf_session.TF_SessionRun_wrapper(\n\u001b[1;32m   1349\u001b[0m         \u001b[0mself\u001b[0m\u001b[0;34m.\u001b[0m\u001b[0m_session\u001b[0m\u001b[0;34m,\u001b[0m \u001b[0moptions\u001b[0m\u001b[0;34m,\u001b[0m \u001b[0mfeed_dict\u001b[0m\u001b[0;34m,\u001b[0m \u001b[0mfetch_list\u001b[0m\u001b[0;34m,\u001b[0m \u001b[0mtarget_list\u001b[0m\u001b[0;34m,\u001b[0m\u001b[0;34m\u001b[0m\u001b[0m\n\u001b[0;32m-> 1350\u001b[0;31m         run_metadata)\n\u001b[0m\u001b[1;32m   1351\u001b[0m \u001b[0;34m\u001b[0m\u001b[0m\n\u001b[1;32m   1352\u001b[0m   \u001b[0;32mdef\u001b[0m \u001b[0m_call_tf_sessionprun\u001b[0m\u001b[0;34m(\u001b[0m\u001b[0mself\u001b[0m\u001b[0;34m,\u001b[0m \u001b[0mhandle\u001b[0m\u001b[0;34m,\u001b[0m \u001b[0mfeed_dict\u001b[0m\u001b[0;34m,\u001b[0m \u001b[0mfetch_list\u001b[0m\u001b[0;34m)\u001b[0m\u001b[0;34m:\u001b[0m\u001b[0;34m\u001b[0m\u001b[0m\n",
      "\u001b[0;31mKeyboardInterrupt\u001b[0m: "
=======
      "({'x': array([4, 1, 5, 6])}, array([1]))\n",
      "({'x': array([7, 1, 8, 9])}, array([0]))\n",
      "({'x': array([10,  2,  3, 11])}, array([1]))\n",
      "({'x': array([12,  2,  3, 13])}, array([1]))\n",
      "({'x': array([14,  1, 15, 16])}, array([0]))\n",
      "({'x': array([17, 18, 19, 20])}, array([1]))\n"
>>>>>>> 6b0349e2bb6d59a414917670a49c0f40bbc973d1
     ]
    }
   ],
   "source": [
<<<<<<< HEAD
    "with tf.Session() as sess:\n",
    "    while True:\n",
    "        try:\n",
    "            dataset = sess.run(train_input_fn())\n",
    "            print(\"sentence index: {} \\n\".format(dataset[0]['x'])) # 입력 문장\n",
    "            print(\"sentence Label: {}\".format(dataset[1])) # 입력 문장 레이블 (긍/부정))                   \n",
=======
    "with tf.Session() as sess:\n",
    "    while True:\n",
    "        try:\n",
    "            print(sess.run(next_data))\n",
    "        except tf.errors.OutOfRangeError:\n",
    "            break"
   ]
  },
  {
   "cell_type": "code",
   "execution_count": 44,
   "metadata": {},
   "outputs": [],
   "source": [
    "dataset = tf.data.Dataset.from_tensor_slices((sequences, label))\n",
    "dataset = dataset.map(mapping_fn)\n",
    "dataset = dataset.shuffle(len(sequences))\n",
    "dataset = dataset.batch(BATCH_SIZE) \n",
    "iterator = dataset.make_one_shot_iterator()\n",
    "next_data = iterator.get_next()"
   ]
  },
  {
   "cell_type": "code",
   "execution_count": 45,
   "metadata": {},
   "outputs": [
    {
     "name": "stdout",
     "output_type": "stream",
     "text": [
      "({'x': array([[ 4,  1,  5,  6],\n",
      "       [12,  2,  3, 13]])}, array([[1],\n",
      "       [1]]))\n",
      "({'x': array([[10,  2,  3, 11],\n",
      "       [ 7,  1,  8,  9]])}, array([[1],\n",
      "       [0]]))\n",
      "({'x': array([[17, 18, 19, 20],\n",
      "       [14,  1, 15, 16]])}, array([[1],\n",
      "       [0]]))\n"
     ]
    }
   ],
   "source": [
    "with tf.Session() as sess:\n",
    "    while True:\n",
    "        try:\n",
    "            print(sess.run(next_data))\n",
    "        except tf.errors.OutOfRangeError:\n",
    "            break"
   ]
  },
  {
   "cell_type": "code",
   "execution_count": 60,
   "metadata": {},
   "outputs": [
    {
     "name": "stdout",
     "output_type": "stream",
     "text": [
      "({'x': array([[14,  1, 15, 16],\n",
      "       [ 7,  1,  8,  9]])}, array([[0],\n",
      "       [0]]))\n",
      "({'x': array([[ 4,  1,  5,  6],\n",
      "       [12,  2,  3, 13]])}, array([[1],\n",
      "       [1]]))\n",
      "({'x': array([[10,  2,  3, 11],\n",
      "       [17, 18, 19, 20]])}, array([[1],\n",
      "       [1]]))\n",
      "({'x': array([[12,  2,  3, 13],\n",
      "       [ 7,  1,  8,  9]])}, array([[1],\n",
      "       [0]]))\n",
      "({'x': array([[17, 18, 19, 20],\n",
      "       [14,  1, 15, 16]])}, array([[1],\n",
      "       [0]]))\n",
      "({'x': array([[10,  2,  3, 11],\n",
      "       [ 4,  1,  5,  6]])}, array([[1],\n",
      "       [1]]))\n"
     ]
    }
   ],
   "source": [
    "BATCH_SIZE = 2\n",
    "EPOCH = 2\n",
    "\n",
    "def mapping_fn(X, Y=None):\n",
    "    input = {'x': X}\n",
    "    label = Y\n",
    "    return input, label\n",
    "\n",
    "dataset = tf.data.Dataset.from_tensor_slices((sequences, label))\n",
    "dataset = dataset.map(mapping_fn)\n",
    "dataset = dataset.shuffle(len(sequences))\n",
    "dataset = dataset.batch(BATCH_SIZE) \n",
    "dataset = dataset.repeat(EPOCH)\n",
    "iterator = dataset.make_one_shot_iterator()\n",
    "next_data = iterator.get_next()\n",
    "\n",
    "with tf.Session() as sess:\n",
    "    while True:\n",
    "        try:\n",
    "            print(sess.run(next_data))\n",
>>>>>>> 6b0349e2bb6d59a414917670a49c0f40bbc973d1
    "        except tf.errors.OutOfRangeError:\n",
    "            break"
   ]
  },
  {
   "cell_type": "code",
   "execution_count": null,
   "metadata": {},
   "outputs": [],
   "source": []
  }
 ],
 "metadata": {
  "kernelspec": {
   "display_name": "Python 3",
   "language": "python",
   "name": "python3"
  },
  "language_info": {
   "codemirror_mode": {
    "name": "ipython",
    "version": 3
   },
   "file_extension": ".py",
   "mimetype": "text/x-python",
   "name": "python",
   "nbconvert_exporter": "python",
   "pygments_lexer": "ipython3",
   "version": "3.6.6"
  }
 },
 "nbformat": 4,
 "nbformat_minor": 2
}

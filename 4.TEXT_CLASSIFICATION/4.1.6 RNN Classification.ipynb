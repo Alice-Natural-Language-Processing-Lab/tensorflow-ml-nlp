{
 "cells": [
  {
   "cell_type": "markdown",
   "metadata": {},
   "source": [
    "## 4.1.6 재현 신경망(Recurrent Neural Network) 분류 모델"
   ]
  },
  {
   "cell_type": "code",
   "execution_count": 1,
   "metadata": {},
   "outputs": [],
   "source": [
    "import tensorflow as tf\n",
    "import numpy as np\n",
    "import pandas as pd\n",
    "\n",
    "from sklearn.model_selection import train_test_split\n",
    "\n",
    "import os\n",
    "import json"
   ]
  },
  {
   "cell_type": "markdown",
   "metadata": {},
   "source": [
    "## 학습 데이터 파일 로드"
   ]
  },
  {
   "cell_type": "code",
   "execution_count": 2,
   "metadata": {},
   "outputs": [],
   "source": [
    "DATA_IN_PATH = './data_in/'\n",
    "DATA_OUT_PATH = './data_out/'\n",
    "\n",
    "TRAIN_INPUT_DATA = 'train_input.npy'\n",
    "TRAIN_LABEL_DATA = 'train_label.npy'\n",
    "DATA_CONFIGS = 'data_configs.json'"
   ]
  },
  {
   "cell_type": "code",
   "execution_count": 3,
   "metadata": {
    "scrolled": true
   },
   "outputs": [],
   "source": [
    "train_input = np.load(open(DATA_IN_PATH + TRAIN_INPUT_DATA, 'rb'))\n",
    "train_label = np.load(open(DATA_IN_PATH + TRAIN_LABEL_DATA, 'rb'))\n",
    "prepro_configs = None\n",
    "\n",
    "with open(DATA_IN_PATH + DATA_CONFIGS, 'r') as f:\n",
    "    prepro_configs = json.load(f)"
   ]
  },
  {
   "cell_type": "code",
   "execution_count": 4,
   "metadata": {},
   "outputs": [],
   "source": [
    "TEST_SPLIT = 0.1\n",
    "RANDOM_SEED = 13371447\n",
    "\n",
    "train_input, test_input, train_label, test_label = train_test_split(train_input, train_label, \n",
    "                                                                    test_size=TEST_SPLIT, random_state=RANDOM_SEED)"
   ]
  },
  {
   "cell_type": "code",
   "execution_count": 5,
   "metadata": {},
   "outputs": [],
   "source": [
    "BATCH_SIZE = 16\n",
    "NUM_EPOCHS = 3\n",
    "\n",
    "def mapping_fn(X, Y):\n",
    "    inputs, labels = {'x': X}, Y\n",
    "    return inputs, labels\n",
    "\n",
    "def train_input_fn():\n",
    "    dataset = tf.data.Dataset.from_tensor_slices((train_input, train_label))\n",
    "    dataset = dataset.shuffle(buffer_size=50000)\n",
    "    dataset = dataset.batch(BATCH_SIZE)\n",
    "    dataset = dataset.repeat(count=NUM_EPOCHS)\n",
    "    dataset = dataset.map(mapping_fn)\n",
    "    iterator = dataset.make_one_shot_iterator()\n",
    "    \n",
    "    return iterator.get_next()\n",
    "\n",
    "def eval_input_fn():\n",
    "    dataset = tf.data.Dataset.from_tensor_slices((test_input, test_label))\n",
    "    dataset = dataset.map(mapping_fn)\n",
    "    dataset = dataset.batch(BATCH_SIZE * 2)\n",
    "    iterator = dataset.make_one_shot_iterator()\n",
    "    \n",
    "    return iterator.get_next()"
   ]
  },
  {
   "cell_type": "markdown",
   "metadata": {},
   "source": [
    "## 모델 정의"
   ]
  },
  {
   "cell_type": "code",
   "execution_count": 6,
   "metadata": {},
   "outputs": [],
   "source": [
    "VOCAB_SIZE = prepro_configs['vocab_size']+1\n",
    "WORD_EMBEDDING_DIM = 100\n",
    "HIDDEN_STATE_DIM = 150\n",
    "DENSE_FEATURE_DIM = 150\n",
    "\n",
    "learning_rate = 0.001"
   ]
  },
  {
   "cell_type": "code",
   "execution_count": 7,
   "metadata": {},
   "outputs": [],
   "source": [
    "def model_fn(features, labels, mode):\n",
    "    TRAIN = mode == tf.estimator.ModeKeys.TRAIN\n",
    "    EVAL = mode == tf.estimator.ModeKeys.EVAL\n",
    "    PREDICT = mode == tf.estimator.ModeKeys.PREDICT\n",
    "    \n",
    "    embedding_layer = tf.keras.layers.Embedding(\n",
    "                    VOCAB_SIZE,\n",
    "                    WORD_EMBEDDING_DIM)(features['x'])\n",
    "    \n",
    "    embedding_layer = tf.keras.layers.Dropout(0.2)(embedding_layer)\n",
    "    \n",
    "    rnn_layers = [tf.nn.rnn_cell.LSTMCell(size) for size in [HIDDEN_STATE_DIM, HIDDEN_STATE_DIM]]\n",
    "    multi_rnn_cell = tf.nn.rnn_cell.MultiRNNCell(rnn_layers)\n",
    "\n",
    "    outputs, state = tf.nn.dynamic_rnn(cell=multi_rnn_cell,\n",
    "                                       inputs=embedding_layer,\n",
    "                                       dtype=tf.float32)\n",
    "    \n",
    "    outputs = tf.keras.layers.Dropout(0.2)(outputs)\n",
    "    hidden_layer = tf.keras.layers.Dense(DENSE_FEATURE_DIM, activation=tf.nn.tanh)(outputs[:,-1,:])\n",
    "    hidden_layer = tf.keras.layers.Dropout(0.2)(hidden_layer)\n",
    "    logits = tf.keras.layers.Dense(1)(hidden_layer)\n",
    "    logits = tf.squeeze(logits, axis=-1)\n",
    "    \n",
    "    sigmoid_logits = tf.nn.sigmoid(logits)\n",
    "    \n",
    "    if PREDICT:\n",
    "        predictions = {'sentiment': sigmoid_logits}\n",
    "        \n",
    "        return tf.estimator.EstimatorSpec(\n",
    "                  mode=mode,\n",
    "                  predictions=predictions)\n",
    "    \n",
    "    loss = tf.losses.sigmoid_cross_entropy(labels, logits)\n",
    "    \n",
    "    if EVAL:\n",
    "        accuracy = tf.metrics.accuracy(labels, tf.round(sigmoid_logits))\n",
    "        eval_metric_ops = {'acc': accuracy}\n",
    "\n",
    "        return tf.estimator.EstimatorSpec(mode, loss=loss, eval_metric_ops=eval_metric_ops)\n",
    "    \n",
    "    if TRAIN:\n",
    "        global_step = tf.train.get_global_step()\n",
    "        train_op = tf.train.AdamOptimizer(learning_rate).minimize(loss, global_step)\n",
    "\n",
    "        return tf.estimator.EstimatorSpec(\n",
    "                  mode=mode,\n",
    "                  train_op=train_op,\n",
    "                  loss=loss)"
   ]
  },
  {
   "cell_type": "code",
   "execution_count": 8,
   "metadata": {},
   "outputs": [
    {
     "name": "stdout",
     "output_type": "stream",
     "text": [
      "INFO:tensorflow:Using default config.\n",
      "INFO:tensorflow:Using config: {'_model_dir': './data_out/checkpoint/rnn', '_tf_random_seed': None, '_save_summary_steps': 100, '_save_checkpoints_steps': None, '_save_checkpoints_secs': 600, '_session_config': allow_soft_placement: true\n",
      "graph_options {\n",
      "  rewrite_options {\n",
      "    meta_optimizer_iterations: ONE\n",
      "  }\n",
      "}\n",
      ", '_keep_checkpoint_max': 5, '_keep_checkpoint_every_n_hours': 10000, '_log_step_count_steps': 100, '_train_distribute': None, '_device_fn': None, '_protocol': None, '_eval_distribute': None, '_experimental_distribute': None, '_service': None, '_cluster_spec': <tensorflow.python.training.server_lib.ClusterSpec object at 0x1046f99e8>, '_task_type': 'worker', '_task_id': 0, '_global_id_in_cluster': 0, '_master': '', '_evaluation_master': '', '_is_chief': True, '_num_ps_replicas': 0, '_num_worker_replicas': 1}\n"
     ]
    }
   ],
   "source": [
    "if not os.path.exists(DATA_OUT_PATH):\n",
    "    os.makedirs(DATA_OUT_PATH)\n",
    "\n",
    "est = tf.estimator.Estimator(model_fn=model_fn,\n",
    "                             model_dir=DATA_OUT_PATH + 'checkpoint/rnn') "
   ]
  },
  {
   "cell_type": "code",
   "execution_count": 9,
   "metadata": {},
   "outputs": [
    {
     "name": "stdout",
     "output_type": "stream",
     "text": [
      "INFO:tensorflow:Calling model_fn.\n",
      "INFO:tensorflow:Done calling model_fn.\n",
      "INFO:tensorflow:Create CheckpointSaverHook.\n",
      "INFO:tensorflow:Graph was finalized.\n",
      "INFO:tensorflow:Running local_init_op.\n",
      "INFO:tensorflow:Done running local_init_op.\n",
      "INFO:tensorflow:Saving checkpoints for 0 into ./data_out/checkpoint/rnn/model.ckpt.\n",
      "INFO:tensorflow:loss = 0.68859875, step = 1\n",
      "INFO:tensorflow:global_step/sec: 1.94384\n",
      "INFO:tensorflow:loss = 0.68217313, step = 101 (51.445 sec)\n",
      "INFO:tensorflow:global_step/sec: 1.93008\n",
      "INFO:tensorflow:loss = 0.7066553, step = 201 (51.812 sec)\n",
      "INFO:tensorflow:global_step/sec: 1.95133\n",
      "INFO:tensorflow:loss = 0.69017786, step = 301 (51.247 sec)\n",
      "INFO:tensorflow:global_step/sec: 1.93272\n",
      "INFO:tensorflow:loss = 0.7027933, step = 401 (51.740 sec)\n",
      "INFO:tensorflow:global_step/sec: 1.91622\n",
      "INFO:tensorflow:loss = 0.6410763, step = 501 (52.186 sec)\n",
      "INFO:tensorflow:Saving checkpoints for 536 into ./data_out/checkpoint/rnn/model.ckpt.\n",
      "INFO:tensorflow:Saving checkpoints for 575 into ./data_out/checkpoint/rnn/model.ckpt.\n",
      "INFO:tensorflow:global_step/sec: 0.0257057\n",
      "INFO:tensorflow:loss = 0.63065803, step = 601 (3890.190 sec)\n",
      "INFO:tensorflow:global_step/sec: 1.93615\n",
      "INFO:tensorflow:loss = 0.71180785, step = 701 (51.649 sec)\n",
      "INFO:tensorflow:global_step/sec: 1.8835\n",
      "INFO:tensorflow:loss = 0.68703455, step = 801 (53.092 sec)\n",
      "INFO:tensorflow:global_step/sec: 1.8317\n",
      "INFO:tensorflow:loss = 0.62446606, step = 901 (54.594 sec)\n",
      "INFO:tensorflow:global_step/sec: 1.77284\n",
      "INFO:tensorflow:loss = 0.6975642, step = 1001 (56.406 sec)\n",
      "INFO:tensorflow:global_step/sec: 1.58923\n",
      "INFO:tensorflow:loss = 0.65526545, step = 1101 (62.924 sec)\n",
      "INFO:tensorflow:global_step/sec: 1.72608\n",
      "INFO:tensorflow:loss = 0.5516534, step = 1201 (57.935 sec)\n",
      "INFO:tensorflow:global_step/sec: 1.69672\n",
      "INFO:tensorflow:loss = 0.5378892, step = 1301 (58.937 sec)\n",
      "INFO:tensorflow:global_step/sec: 1.86251\n",
      "INFO:tensorflow:loss = 0.5970604, step = 1401 (53.691 sec)\n",
      "INFO:tensorflow:global_step/sec: 1.93778\n",
      "INFO:tensorflow:loss = 0.6932704, step = 1501 (51.605 sec)\n",
      "INFO:tensorflow:global_step/sec: 1.87153\n",
      "INFO:tensorflow:loss = 0.63557994, step = 1601 (53.432 sec)\n",
      "INFO:tensorflow:Saving checkpoints for 1661 into ./data_out/checkpoint/rnn/model.ckpt.\n",
      "INFO:tensorflow:global_step/sec: 1.86712\n",
      "INFO:tensorflow:loss = 0.6213387, step = 1701 (53.559 sec)\n",
      "INFO:tensorflow:global_step/sec: 1.84126\n",
      "INFO:tensorflow:loss = 0.665926, step = 1801 (54.311 sec)\n",
      "INFO:tensorflow:global_step/sec: 1.83404\n",
      "INFO:tensorflow:loss = 0.6580663, step = 1901 (54.524 sec)\n",
      "INFO:tensorflow:global_step/sec: 1.81187\n",
      "INFO:tensorflow:loss = 0.68957686, step = 2001 (55.192 sec)\n",
      "INFO:tensorflow:global_step/sec: 1.77505\n",
      "INFO:tensorflow:loss = 0.6921259, step = 2101 (56.337 sec)\n",
      "INFO:tensorflow:global_step/sec: 1.79065\n",
      "INFO:tensorflow:loss = 0.6931337, step = 2201 (55.845 sec)\n",
      "INFO:tensorflow:global_step/sec: 1.78037\n",
      "INFO:tensorflow:loss = 0.7009407, step = 2301 (56.168 sec)\n",
      "INFO:tensorflow:global_step/sec: 1.66805\n",
      "INFO:tensorflow:loss = 0.65947247, step = 2401 (59.951 sec)\n",
      "INFO:tensorflow:global_step/sec: 1.66386\n",
      "INFO:tensorflow:loss = 0.6931584, step = 2501 (60.101 sec)\n",
      "INFO:tensorflow:global_step/sec: 1.63398\n",
      "INFO:tensorflow:loss = 0.6992631, step = 2601 (61.200 sec)\n",
      "INFO:tensorflow:global_step/sec: 1.67907\n",
      "INFO:tensorflow:loss = 0.7013888, step = 2701 (59.556 sec)\n",
      "INFO:tensorflow:Saving checkpoints for 2710 into ./data_out/checkpoint/rnn/model.ckpt.\n",
      "INFO:tensorflow:global_step/sec: 1.8418\n",
      "INFO:tensorflow:loss = 0.6456783, step = 2801 (54.295 sec)\n",
      "INFO:tensorflow:global_step/sec: 1.88455\n",
      "INFO:tensorflow:loss = 0.5848444, step = 2901 (53.064 sec)\n",
      "INFO:tensorflow:global_step/sec: 1.94137\n",
      "INFO:tensorflow:loss = 0.74164796, step = 3001 (51.509 sec)\n",
      "INFO:tensorflow:global_step/sec: 1.89465\n",
      "INFO:tensorflow:loss = 0.70598644, step = 3101 (52.780 sec)\n",
      "INFO:tensorflow:global_step/sec: 1.84563\n",
      "INFO:tensorflow:loss = 0.6811973, step = 3201 (54.183 sec)\n",
      "INFO:tensorflow:global_step/sec: 1.88535\n",
      "INFO:tensorflow:loss = 0.66569823, step = 3301 (53.040 sec)\n",
      "INFO:tensorflow:global_step/sec: 1.80634\n",
      "INFO:tensorflow:loss = 0.7044429, step = 3401 (55.361 sec)\n",
      "INFO:tensorflow:global_step/sec: 1.86973\n",
      "INFO:tensorflow:loss = 0.7107769, step = 3501 (53.484 sec)\n",
      "INFO:tensorflow:global_step/sec: 1.80542\n",
      "INFO:tensorflow:loss = 0.7013385, step = 3601 (55.388 sec)\n",
      "INFO:tensorflow:global_step/sec: 1.7982\n",
      "INFO:tensorflow:loss = 0.71068865, step = 3701 (55.611 sec)\n",
      "INFO:tensorflow:global_step/sec: 1.71334\n",
      "INFO:tensorflow:loss = 0.69746196, step = 3801 (58.366 sec)\n",
      "INFO:tensorflow:Saving checkpoints for 3815 into ./data_out/checkpoint/rnn/model.ckpt.\n",
      "INFO:tensorflow:global_step/sec: 1.62072\n",
      "INFO:tensorflow:loss = 0.69076496, step = 3901 (61.701 sec)\n",
      "INFO:tensorflow:global_step/sec: 1.59426\n",
      "INFO:tensorflow:loss = 0.6836887, step = 4001 (62.725 sec)\n",
      "INFO:tensorflow:global_step/sec: 1.64725\n",
      "INFO:tensorflow:loss = 0.6951768, step = 4101 (60.708 sec)\n",
      "INFO:tensorflow:global_step/sec: 1.77767\n",
      "INFO:tensorflow:loss = 0.6018086, step = 4201 (56.253 sec)\n",
      "INFO:tensorflow:Saving checkpoints for 4221 into ./data_out/checkpoint/rnn/model.ckpt.\n",
      "INFO:tensorflow:Loss for final step: 0.7039863.\n"
     ]
    },
    {
     "data": {
      "text/plain": [
       "<tensorflow.python.estimator.estimator.Estimator at 0x1a34aa9c88>"
      ]
     },
     "execution_count": 9,
     "metadata": {},
     "output_type": "execute_result"
    }
   ],
   "source": [
    "os.environ[\"CUDA_VISIBLE_DEVICES\"]=\"4\"\n",
    "\n",
    "est.train(train_input_fn)"
   ]
  },
  {
   "cell_type": "code",
   "execution_count": 10,
   "metadata": {},
   "outputs": [
    {
     "name": "stdout",
     "output_type": "stream",
     "text": [
      "INFO:tensorflow:Calling model_fn.\n",
      "INFO:tensorflow:Done calling model_fn.\n",
      "INFO:tensorflow:Starting evaluation at 2018-12-22-05:47:51\n",
      "INFO:tensorflow:Graph was finalized.\n",
      "INFO:tensorflow:Restoring parameters from ./data_out/checkpoint/rnn/model.ckpt-4221\n",
      "INFO:tensorflow:Running local_init_op.\n",
      "INFO:tensorflow:Done running local_init_op.\n",
      "INFO:tensorflow:Finished evaluation at 2018-12-22-05:48:07\n",
      "INFO:tensorflow:Saving dict for global step 4221: acc = 0.5308, global_step = 4221, loss = 0.68741566\n",
      "INFO:tensorflow:Saving 'checkpoint_path' summary for global step 4221: ./data_out/checkpoint/rnn/model.ckpt-4221\n"
     ]
    },
    {
     "data": {
      "text/plain": [
       "{'acc': 0.5308, 'loss': 0.68741566, 'global_step': 4221}"
      ]
     },
     "execution_count": 10,
     "metadata": {},
     "output_type": "execute_result"
    }
   ],
   "source": [
    "est.evaluate(eval_input_fn)"
   ]
  },
  {
   "cell_type": "markdown",
   "metadata": {},
   "source": [
    "## 캐글 평가 데이터셋 만들기"
   ]
  },
  {
   "cell_type": "code",
   "execution_count": 11,
   "metadata": {},
   "outputs": [],
   "source": [
    "DATA_OUT_PATH = './data_out/'\n",
    "TEST_INPUT_DATA = 'test_input.npy'\n",
    "TEST_ID_DATA = 'test_id.npy'\n",
    "\n",
    "test_input_data = np.load(open(DATA_IN_PATH + TEST_INPUT_DATA, 'rb'))"
   ]
  },
  {
   "cell_type": "code",
   "execution_count": 12,
   "metadata": {},
   "outputs": [],
   "source": [
    "predict_input_fn = tf.estimator.inputs.numpy_input_fn(x={\"x\":test_input_data}, shuffle=False)"
   ]
  },
  {
   "cell_type": "code",
   "execution_count": 13,
   "metadata": {},
   "outputs": [
    {
     "name": "stdout",
     "output_type": "stream",
     "text": [
      "WARNING:tensorflow:From /Users/JunChangWook/anaconda3/lib/python3.6/site-packages/tensorflow/python/estimator/inputs/queues/feeding_queue_runner.py:62: QueueRunner.__init__ (from tensorflow.python.training.queue_runner_impl) is deprecated and will be removed in a future version.\n",
      "Instructions for updating:\n",
      "To construct input pipelines, use the `tf.data` module.\n",
      "WARNING:tensorflow:From /Users/JunChangWook/anaconda3/lib/python3.6/site-packages/tensorflow/python/estimator/inputs/queues/feeding_functions.py:500: add_queue_runner (from tensorflow.python.training.queue_runner_impl) is deprecated and will be removed in a future version.\n",
      "Instructions for updating:\n",
      "To construct input pipelines, use the `tf.data` module.\n",
      "INFO:tensorflow:Calling model_fn.\n",
      "INFO:tensorflow:Done calling model_fn.\n",
      "INFO:tensorflow:Graph was finalized.\n",
      "INFO:tensorflow:Restoring parameters from ./data_out/checkpoint/rnn/model.ckpt-4221\n",
      "INFO:tensorflow:Running local_init_op.\n",
      "INFO:tensorflow:Done running local_init_op.\n",
      "WARNING:tensorflow:From /Users/JunChangWook/anaconda3/lib/python3.6/site-packages/tensorflow/python/training/monitored_session.py:804: start_queue_runners (from tensorflow.python.training.queue_runner_impl) is deprecated and will be removed in a future version.\n",
      "Instructions for updating:\n",
      "To construct input pipelines, use the `tf.data` module.\n"
     ]
    }
   ],
   "source": [
    "predictions = np.array([p['sentiment'] for p in est.predict(input_fn=\n",
    "predict_input_fn)])"
   ]
  },
  {
   "cell_type": "code",
   "execution_count": 14,
   "metadata": {},
   "outputs": [],
   "source": [
    "test_id = np.load(open(DATA_IN_PATH + TEST_ID_DATA, 'rb'))"
   ]
  },
  {
   "cell_type": "code",
   "execution_count": 15,
   "metadata": {},
   "outputs": [],
   "source": [
    "if not os.path.exists(DATA_OUT_PATH):\n",
    "    os.makedirs(DATA_OUT_PATH)\n",
    "\n",
    "output = pd.DataFrame(data={\"id\": list(test_id), \"sentiment\":list(predictions)} )\n",
    "output.to_csv(DATA_OUT_PATH + 'movie_review_result_rnn.csv', index=False, quoting=3 )"
   ]
  }
 ],
 "metadata": {
  "kernelspec": {
   "display_name": "Python 3",
   "language": "python",
   "name": "python3"
  },
  "language_info": {
   "codemirror_mode": {
    "name": "ipython",
    "version": 3
   },
   "file_extension": ".py",
   "mimetype": "text/x-python",
   "name": "python",
   "nbconvert_exporter": "python",
   "pygments_lexer": "ipython3",
   "version": "3.6.6"
  }
 },
 "nbformat": 4,
 "nbformat_minor": 2
}

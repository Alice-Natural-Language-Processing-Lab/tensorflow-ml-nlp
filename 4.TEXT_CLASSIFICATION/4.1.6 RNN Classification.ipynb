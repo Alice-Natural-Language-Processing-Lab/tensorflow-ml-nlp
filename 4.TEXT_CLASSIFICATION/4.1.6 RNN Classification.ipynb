{
 "cells": [
  {
   "cell_type": "markdown",
   "metadata": {},
   "source": [
    "## 4.1.6 재현 신경망(Recurrent Neural Network) 분류 모델"
   ]
  },
  {
   "cell_type": "code",
   "execution_count": 1,
   "metadata": {},
   "outputs": [
    {
     "name": "stderr",
     "output_type": "stream",
     "text": [
      "/Users/sinseongjin/tf110/lib/python3.6/importlib/_bootstrap.py:219: RuntimeWarning: compiletime version 3.5 of module 'tensorflow.python.framework.fast_tensor_util' does not match runtime version 3.6\n",
      "  return f(*args, **kwds)\n"
     ]
    }
   ],
   "source": [
    "import tensorflow as tf\n",
    "import numpy as np\n",
    "import pandas as pd\n",
    "\n",
    "from sklearn.model_selection import train_test_split\n",
    "\n",
    "import os\n",
    "import json"
   ]
  },
  {
   "cell_type": "markdown",
   "metadata": {},
   "source": [
    "## 학습 데이터 파일 로드"
   ]
  },
  {
   "cell_type": "code",
   "execution_count": 2,
   "metadata": {},
   "outputs": [],
   "source": [
    "DATA_IN_PATH = './data_in/'\n",
    "DATA_OUT_PATH = './data_out/'\n",
    "\n",
    "TRAIN_INPUT_DATA = 'train_input.npy'\n",
    "TRAIN_LABEL_DATA = 'train_label.npy'\n",
    "DATA_CONFIGS = 'data_configs.json'"
   ]
  },
  {
   "cell_type": "code",
   "execution_count": 3,
   "metadata": {},
   "outputs": [],
   "source": [
    "train_input = np.load(open(DATA_IN_PATH + TRAIN_INPUT_DATA, 'rb'))\n",
    "train_label = np.load(open(DATA_IN_PATH + TRAIN_LABEL_DATA, 'rb'))\n",
    "prepro_configs = None\n",
    "\n",
    "with open(DATA_IN_PATH + DATA_CONFIGS, 'r') as f:\n",
    "    prepro_configs = json.load(f)"
   ]
  },
  {
   "cell_type": "code",
   "execution_count": 4,
   "metadata": {},
   "outputs": [],
   "source": [
    "TEST_SPLIT = 0.1\n",
    "RANDOM_SEED = 13371447\n",
    "\n",
    "train_input, test_input, train_label, test_label = train_test_split(train_input, train_label, \n",
    "                                                                    test_size=TEST_SPLIT, random_state=RANDOM_SEED)"
   ]
  },
  {
   "cell_type": "code",
   "execution_count": 5,
   "metadata": {},
   "outputs": [],
   "source": [
    "BATCH_SIZE = 16\n",
    "NUM_EPOCHS = 3\n",
    "\n",
    "def mapping_fn(X, Y):\n",
    "    inputs, labels = {'x': X}, Y\n",
    "    return inputs, labels\n",
    "\n",
    "def train_input_fn():\n",
    "    dataset = tf.data.Dataset.from_tensor_slices((train_input, train_label))\n",
    "    dataset = dataset.shuffle(buffer_size=50000)\n",
    "    dataset = dataset.batch(BATCH_SIZE)\n",
    "    dataset = dataset.repeat(count=NUM_EPOCHS)\n",
    "    dataset = dataset.map(mapping_fn)\n",
    "    iterator = dataset.make_one_shot_iterator()\n",
    "    \n",
    "    return iterator.get_next()\n",
    "\n",
    "def eval_input_fn():\n",
    "    dataset = tf.data.Dataset.from_tensor_slices((test_input, test_label))\n",
    "    dataset = dataset.map(mapping_fn)\n",
    "    dataset = dataset.batch(BATCH_SIZE * 2)\n",
    "    iterator = dataset.make_one_shot_iterator()\n",
    "    \n",
    "    return iterator.get_next()"
   ]
  },
  {
   "cell_type": "markdown",
   "metadata": {},
   "source": [
    "## 모델 정의"
   ]
  },
  {
   "cell_type": "code",
   "execution_count": 4,
   "metadata": {},
   "outputs": [],
   "source": [
    "VOCAB_SIZE = prepro_configs['vocab_size']+1\n",
    "WORD_EMBEDDING_DIM = 100\n",
    "HIDDEN_STATE_DIM = 150\n",
    "DENSE_FEATURE_DIM = 150\n",
    "\n",
    "learning_rate = 0.001"
   ]
  },
  {
   "cell_type": "code",
   "execution_count": 7,
   "metadata": {},
   "outputs": [
    {
     "name": "stdout",
     "output_type": "stream",
     "text": [
      "74065 74065\n"
     ]
    }
   ],
   "source": [
    "print(len(prepro_configs['vocab']), VOCAB_SIZE)\n"
   ]
  },
  {
   "cell_type": "code",
   "execution_count": 7,
   "metadata": {},
   "outputs": [],
   "source": [
    "def model_fn(features, labels, mode):\n",
    "    TRAIN = mode == tf.estimator.ModeKeys.TRAIN\n",
    "    EVAL = mode == tf.estimator.ModeKeys.EVAL\n",
    "    PREDICT = mode == tf.estimator.ModeKeys.PREDICT\n",
    "    \n",
    "    embedding_layer = tf.keras.layers.Embedding(\n",
    "                    VOCAB_SIZE,\n",
    "                    WORD_EMBEDDING_DIM)(features['x'])\n",
    "    \n",
    "    embedding_layer = tf.keras.layers.Dropout(0.2)(embedding_layer)\n",
    "    \n",
    "    rnn_layers = [tf.nn.rnn_cell.LSTMCell(size) for size in [HIDDEN_STATE_DIM, HIDDEN_STATE_DIM]]\n",
    "    multi_rnn_cell = tf.nn.rnn_cell.MultiRNNCell(rnn_layers)\n",
    "\n",
    "    outputs, state = tf.nn.dynamic_rnn(cell=multi_rnn_cell,\n",
    "                                       inputs=embedding_layer,\n",
    "                                       dtype=tf.float32)\n",
    "    \n",
    "    outputs = tf.keras.layers.Dropout(0.2)(outputs)\n",
    "    hidden_layer = tf.keras.layers.Dense(DENSE_FEATURE_DIM, activation=tf.nn.tanh)(outputs[:,-1,:])\n",
    "    hidden_layer = tf.keras.layers.Dropout(0.2)(hidden_layer)\n",
    "    logits = tf.keras.layers.Dense(1)(hidden_layer)\n",
    "    logits = tf.squeeze(logits, axis=-1)\n",
    "    \n",
    "    sigmoid_logits = tf.nn.sigmoid(logits)\n",
    "    \n",
    "    if PREDICT:\n",
    "        predictions = {'sentiment': sigmoid_logits}\n",
    "        \n",
    "        return tf.estimator.EstimatorSpec(\n",
    "                  mode=mode,\n",
    "                  predictions=predictions)\n",
    "    \n",
    "    loss = tf.losses.sigmoid_cross_entropy(labels, logits)\n",
    "    \n",
    "    if EVAL:\n",
    "        accuracy = tf.metrics.accuracy(labels, tf.round(sigmoid_logits))\n",
    "        eval_metric_ops = {'acc': accuracy}\n",
    "\n",
    "        return tf.estimator.EstimatorSpec(mode, loss=loss, eval_metric_ops=eval_metric_ops)\n",
    "    \n",
    "    if TRAIN:\n",
    "        global_step = tf.train.get_global_step()\n",
    "        train_op = tf.train.AdamOptimizer(learning_rate).minimize(loss, global_step)\n",
    "\n",
    "        return tf.estimator.EstimatorSpec(\n",
    "                  mode=mode,\n",
    "                  train_op=train_op,\n",
    "                  loss=loss)"
   ]
  },
  {
   "cell_type": "code",
   "execution_count": 8,
   "metadata": {},
   "outputs": [
    {
     "name": "stdout",
     "output_type": "stream",
     "text": [
      "INFO:tensorflow:Using default config.\n",
      "INFO:tensorflow:Using config: {'_model_dir': './data_out/checkpoint/rnn', '_tf_random_seed': None, '_save_summary_steps': 100, '_save_checkpoints_steps': None, '_save_checkpoints_secs': 600, '_session_config': allow_soft_placement: true\n",
      "graph_options {\n",
      "  rewrite_options {\n",
      "    meta_optimizer_iterations: ONE\n",
      "  }\n",
      "}\n",
      ", '_keep_checkpoint_max': 5, '_keep_checkpoint_every_n_hours': 10000, '_log_step_count_steps': 100, '_train_distribute': None, '_device_fn': None, '_protocol': None, '_eval_distribute': None, '_experimental_distribute': None, '_service': None, '_cluster_spec': <tensorflow.python.training.server_lib.ClusterSpec object at 0x7f29179c6048>, '_task_type': 'worker', '_task_id': 0, '_global_id_in_cluster': 0, '_master': '', '_evaluation_master': '', '_is_chief': True, '_num_ps_replicas': 0, '_num_worker_replicas': 1}\n"
     ]
    }
   ],
   "source": [
    "if not os.path.exists(DATA_OUT_PATH):\n",
    "    os.makedirs(DATA_OUT_PATH)\n",
    "\n",
    "est = tf.estimator.Estimator(model_fn=model_fn,\n",
    "                             model_dir=DATA_OUT_PATH + 'checkpoint/rnn') "
   ]
  },
  {
   "cell_type": "code",
   "execution_count": 9,
   "metadata": {},
   "outputs": [
    {
     "name": "stdout",
     "output_type": "stream",
     "text": [
      "INFO:tensorflow:Calling model_fn.\n",
      "INFO:tensorflow:Done calling model_fn.\n",
      "INFO:tensorflow:Create CheckpointSaverHook.\n",
      "INFO:tensorflow:Graph was finalized.\n",
      "INFO:tensorflow:Running local_init_op.\n",
      "INFO:tensorflow:Done running local_init_op.\n",
      "INFO:tensorflow:Saving checkpoints for 0 into ./data_out/checkpoint/rnn/model.ckpt.\n",
      "INFO:tensorflow:loss = 0.69270045, step = 0\n",
      "INFO:tensorflow:global_step/sec: 10.6192\n",
      "INFO:tensorflow:loss = 0.69895786, step = 100 (9.417 sec)\n",
      "INFO:tensorflow:global_step/sec: 11.3273\n",
      "INFO:tensorflow:loss = 0.70606375, step = 200 (8.828 sec)\n",
      "INFO:tensorflow:global_step/sec: 11.2818\n",
      "INFO:tensorflow:loss = 0.69813704, step = 300 (8.864 sec)\n",
      "INFO:tensorflow:global_step/sec: 11.287\n",
      "INFO:tensorflow:loss = 0.69390035, step = 400 (8.860 sec)\n",
      "INFO:tensorflow:global_step/sec: 11.3128\n",
      "INFO:tensorflow:loss = 0.6942419, step = 500 (8.839 sec)\n",
      "INFO:tensorflow:global_step/sec: 11.3203\n",
      "INFO:tensorflow:loss = 0.6886108, step = 600 (8.834 sec)\n",
      "INFO:tensorflow:global_step/sec: 11.3183\n",
      "INFO:tensorflow:loss = 0.685944, step = 700 (8.835 sec)\n",
      "INFO:tensorflow:global_step/sec: 11.3375\n",
      "INFO:tensorflow:loss = 0.6881257, step = 800 (8.820 sec)\n",
      "INFO:tensorflow:global_step/sec: 11.237\n",
      "INFO:tensorflow:loss = 0.6937276, step = 900 (8.899 sec)\n",
      "INFO:tensorflow:global_step/sec: 11.2562\n",
      "INFO:tensorflow:loss = 0.6928577, step = 1000 (8.884 sec)\n",
      "INFO:tensorflow:global_step/sec: 11.2399\n",
      "INFO:tensorflow:loss = 0.6936109, step = 1100 (8.897 sec)\n",
      "INFO:tensorflow:global_step/sec: 11.2119\n",
      "INFO:tensorflow:loss = 0.6935925, step = 1200 (8.919 sec)\n",
      "INFO:tensorflow:global_step/sec: 10.9401\n",
      "INFO:tensorflow:loss = 0.69353193, step = 1300 (9.141 sec)\n",
      "INFO:tensorflow:global_step/sec: 10.8935\n",
      "INFO:tensorflow:loss = 0.69311976, step = 1400 (9.180 sec)\n",
      "INFO:tensorflow:global_step/sec: 11.241\n",
      "INFO:tensorflow:loss = 0.6890948, step = 1500 (8.896 sec)\n",
      "INFO:tensorflow:global_step/sec: 11.2519\n",
      "INFO:tensorflow:loss = 0.6958362, step = 1600 (8.887 sec)\n",
      "INFO:tensorflow:global_step/sec: 11.2913\n",
      "INFO:tensorflow:loss = 0.6901475, step = 1700 (8.856 sec)\n",
      "INFO:tensorflow:global_step/sec: 11.2508\n",
      "INFO:tensorflow:loss = 0.6927564, step = 1800 (8.888 sec)\n",
      "INFO:tensorflow:global_step/sec: 11.2788\n",
      "INFO:tensorflow:loss = 0.69564223, step = 1900 (8.866 sec)\n",
      "INFO:tensorflow:global_step/sec: 11.268\n",
      "INFO:tensorflow:loss = 0.68803155, step = 2000 (8.874 sec)\n",
      "INFO:tensorflow:global_step/sec: 11.2037\n",
      "INFO:tensorflow:loss = 0.6996725, step = 2100 (8.926 sec)\n",
      "INFO:tensorflow:global_step/sec: 11.1167\n",
      "INFO:tensorflow:loss = 0.67170966, step = 2200 (8.996 sec)\n",
      "INFO:tensorflow:global_step/sec: 11.0714\n",
      "INFO:tensorflow:loss = 0.66361445, step = 2300 (9.032 sec)\n",
      "INFO:tensorflow:global_step/sec: 11.2583\n",
      "INFO:tensorflow:loss = 0.685807, step = 2400 (8.882 sec)\n",
      "INFO:tensorflow:global_step/sec: 10.9335\n",
      "INFO:tensorflow:loss = 0.71024, step = 2500 (9.146 sec)\n",
      "INFO:tensorflow:global_step/sec: 11.2895\n",
      "INFO:tensorflow:loss = 0.7665647, step = 2600 (8.858 sec)\n",
      "INFO:tensorflow:global_step/sec: 11.2413\n",
      "INFO:tensorflow:loss = 0.8106816, step = 2700 (8.896 sec)\n",
      "INFO:tensorflow:global_step/sec: 11.2539\n",
      "INFO:tensorflow:loss = 0.6927533, step = 2800 (8.886 sec)\n",
      "INFO:tensorflow:global_step/sec: 11.2616\n",
      "INFO:tensorflow:loss = 0.69680256, step = 2900 (8.879 sec)\n",
      "INFO:tensorflow:global_step/sec: 11.2275\n",
      "INFO:tensorflow:loss = 0.70451045, step = 3000 (8.907 sec)\n",
      "INFO:tensorflow:global_step/sec: 11.2493\n",
      "INFO:tensorflow:loss = 0.6248929, step = 3100 (8.889 sec)\n",
      "INFO:tensorflow:global_step/sec: 11.2825\n",
      "INFO:tensorflow:loss = 0.60053253, step = 3200 (8.863 sec)\n",
      "INFO:tensorflow:global_step/sec: 11.2294\n",
      "INFO:tensorflow:loss = 0.4482728, step = 3300 (8.905 sec)\n",
      "INFO:tensorflow:global_step/sec: 11.2513\n",
      "INFO:tensorflow:loss = 0.17213257, step = 3400 (8.888 sec)\n",
      "INFO:tensorflow:global_step/sec: 11.2556\n",
      "INFO:tensorflow:loss = 0.2950397, step = 3500 (8.884 sec)\n",
      "INFO:tensorflow:global_step/sec: 11.27\n",
      "INFO:tensorflow:loss = 0.35742545, step = 3600 (8.873 sec)\n",
      "INFO:tensorflow:global_step/sec: 11.2585\n",
      "INFO:tensorflow:loss = 0.37494284, step = 3700 (8.882 sec)\n",
      "INFO:tensorflow:global_step/sec: 11.2755\n",
      "INFO:tensorflow:loss = 0.17329231, step = 3800 (8.869 sec)\n",
      "INFO:tensorflow:global_step/sec: 11.2703\n",
      "INFO:tensorflow:loss = 0.31069505, step = 3900 (8.873 sec)\n",
      "INFO:tensorflow:global_step/sec: 11.2113\n",
      "INFO:tensorflow:loss = 0.1349288, step = 4000 (8.920 sec)\n",
      "INFO:tensorflow:global_step/sec: 11.2456\n",
      "INFO:tensorflow:loss = 0.20821184, step = 4100 (8.892 sec)\n",
      "INFO:tensorflow:global_step/sec: 11.2559\n",
      "INFO:tensorflow:loss = 0.23723863, step = 4200 (8.884 sec)\n",
      "INFO:tensorflow:Saving checkpoints for 4221 into ./data_out/checkpoint/rnn/model.ckpt.\n",
      "INFO:tensorflow:Loss for final step: 0.22949696.\n"
     ]
    },
    {
     "data": {
      "text/plain": [
       "<tensorflow.python.estimator.estimator.Estimator at 0x7f29196ae940>"
      ]
     },
     "execution_count": 9,
     "metadata": {},
     "output_type": "execute_result"
    }
   ],
   "source": [
    "os.environ[\"CUDA_VISIBLE_DEVICES\"]=\"4\"\n",
    "\n",
    "est.train(train_input_fn)"
   ]
  },
  {
   "cell_type": "code",
   "execution_count": 10,
   "metadata": {},
   "outputs": [
    {
     "name": "stdout",
     "output_type": "stream",
     "text": [
      "INFO:tensorflow:Calling model_fn.\n",
      "INFO:tensorflow:Done calling model_fn.\n",

      "INFO:tensorflow:Starting evaluation at 2018-12-20-07:43:16\n",
      "INFO:tensorflow:Graph was finalized.\n",
      "INFO:tensorflow:Restoring parameters from ./data_out/checkpoint/rnn/model.ckpt-4221\n",
      "INFO:tensorflow:Running local_init_op.\n",
      "INFO:tensorflow:Done running local_init_op.\n",
      "INFO:tensorflow:Finished evaluation at 2018-12-20-07:43:18\n",
      "INFO:tensorflow:Saving dict for global step 4221: acc = 0.86, global_step = 4221, loss = 0.3271929\n",
      "INFO:tensorflow:Saving 'checkpoint_path' summary for global step 4221: ./data_out/checkpoint/rnn/model.ckpt-4221\n"
     ]
    },
    {
     "data": {
      "text/plain": [
       "{'acc': 0.86, 'loss': 0.3271929, 'global_step': 4221}"
      ]
     },
     "execution_count": 10,
     "metadata": {},
     "output_type": "execute_result"
    }
   ],
   "source": [
    "est.evaluate(eval_input_fn)"
   ]
  },
  {
   "cell_type": "markdown",
   "metadata": {},
   "source": [
    "## 캐글 평가 데이터셋 만들기"
   ]
  },
  {
   "cell_type": "code",
   "execution_count": 11,
   "metadata": {},
   "outputs": [],
   "source": [
    "DATA_OUT_PATH = './data_out/'\n",
    "TEST_INPUT_DATA = 'test_input.npy'\n",
    "TEST_ID_DATA = 'test_id.npy'\n",
    "\n",
    "test_input_data = np.load(open(DATA_IN_PATH + TEST_INPUT_DATA, 'rb'))"
   ]
  },
  {
   "cell_type": "code",
   "execution_count": 12,
   "metadata": {},
   "outputs": [],
   "source": [
    "predict_input_fn = tf.estimator.inputs.numpy_input_fn(x={\"x\":test_input_data}, shuffle=False)"
   ]
  },
  {
   "cell_type": "code",
   "execution_count": 13,
   "metadata": {},
   "outputs": [
    {
     "name": "stdout",
     "output_type": "stream",
     "text": [
      "WARNING:tensorflow:From /home/mind/anaconda3/envs/torch_env/lib/python3.6/site-packages/tensorflow/python/estimator/inputs/queues/feeding_queue_runner.py:62: QueueRunner.__init__ (from tensorflow.python.training.queue_runner_impl) is deprecated and will be removed in a future version.\n",
      "Instructions for updating:\n",
      "To construct input pipelines, use the `tf.data` module.\n",
      "WARNING:tensorflow:From /home/mind/anaconda3/envs/torch_env/lib/python3.6/site-packages/tensorflow/python/estimator/inputs/queues/feeding_functions.py:500: add_queue_runner (from tensorflow.python.training.queue_runner_impl) is deprecated and will be removed in a future version.\n",
      "Instructions for updating:\n",
      "To construct input pipelines, use the `tf.data` module.\n",
      "INFO:tensorflow:Calling model_fn.\n",
      "INFO:tensorflow:Done calling model_fn.\n",
      "INFO:tensorflow:Graph was finalized.\n",
      "INFO:tensorflow:Restoring parameters from ./data_out/checkpoint/rnn/model.ckpt-4221\n",
      "INFO:tensorflow:Running local_init_op.\n",
      "INFO:tensorflow:Done running local_init_op.\n",
      "WARNING:tensorflow:From /home/mind/anaconda3/envs/torch_env/lib/python3.6/site-packages/tensorflow/python/training/monitored_session.py:804: start_queue_runners (from tensorflow.python.training.queue_runner_impl) is deprecated and will be removed in a future version.\n",
      "Instructions for updating:\n",
      "To construct input pipelines, use the `tf.data` module.\n"
     ]
    }
   ],
   "source": [
    "predictions = np.array([p['sentiment'] for p in est.predict(input_fn=\n",
    "predict_input_fn)])"
   ]
  },
  {
   "cell_type": "code",
   "execution_count": 14,
   "metadata": {},
   "outputs": [],
   "source": [
    "test_id = np.load(open(DATA_IN_PATH + TEST_ID_DATA, 'rb'))"
   ]
  },
  {
   "cell_type": "code",
   "execution_count": 15,
   "metadata": {},
   "outputs": [],
   "source": [
    "if not os.path.exists(DATA_OUT_PATH):\n",
    "    os.makedirs(DATA_OUT_PATH)\n",
    "\n",
    "output = pd.DataFrame(data={\"id\": list(test_id), \"sentiment\":list(predictions)} )\n",
    "output.to_csv(DATA_OUT_PATH + 'movie_review_result_rnn.csv', index=False, quoting=3 )"
   ]
  }
 ],
 "metadata": {
  "kernelspec": {
   "display_name": "Python 3",
   "language": "python",
   "name": "python3"
  },
  "language_info": {
   "codemirror_mode": {
    "name": "ipython",
    "version": 3
   },
   "file_extension": ".py",
   "mimetype": "text/x-python",
   "name": "python",
   "nbconvert_exporter": "python",
   "pygments_lexer": "ipython3",
   "version": "3.6.6"
  }
 },
 "nbformat": 4,
 "nbformat_minor": 2
}
